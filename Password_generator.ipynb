{
 "cells": [
  {
   "cell_type": "code",
   "execution_count": 7,
   "metadata": {},
   "outputs": [
    {
     "name": "stdout",
     "output_type": "stream",
     "text": [
      "Three Random Passwords Generated For You:\n",
      "Your Generated Password 0 is: 5w?v[XXu_e##\n",
      "Your Generated Password 1 is: ]Z:hp?Ur}a,I\n",
      "Your Generated Password 2 is: gyF|APfg3f&E\n"
     ]
    }
   ],
   "source": [
    "import random\n",
    "import string\n",
    "def generate_password(length):\n",
    "    characters=string.ascii_letters+string.digits+string.punctuation\n",
    "    password = ''.join(random.choice(characters) for i in range(length))\n",
    "    return password\n",
    "    \n",
    "password_length=int(input(\"Enter The Length Of The Password\"))\n",
    "print(\"Three Random Passwords Generated For You:\")\n",
    "for i in range(3):\n",
    "    generated_password=generate_password(password_length)\n",
    "    print(f\"Your Generated Password {i} is:\",generated_password)\n"
   ]
  },
  {
   "cell_type": "code",
   "execution_count": null,
   "metadata": {},
   "outputs": [],
   "source": []
  }
 ],
 "metadata": {
  "kernelspec": {
   "display_name": "Python 3",
   "language": "python",
   "name": "python3"
  },
  "language_info": {
   "codemirror_mode": {
    "name": "ipython",
    "version": 3
   },
   "file_extension": ".py",
   "mimetype": "text/x-python",
   "name": "python",
   "nbconvert_exporter": "python",
   "pygments_lexer": "ipython3",
   "version": "3.11.7"
  }
 },
 "nbformat": 4,
 "nbformat_minor": 2
}
